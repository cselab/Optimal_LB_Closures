{
 "cells": [
  {
   "cell_type": "code",
   "execution_count": null,
   "id": "4f0b7173-f98c-4d92-a553-ca21ce18563f",
   "metadata": {},
   "outputs": [],
   "source": [
    "from lib.environments import AdvectionEnvironment\n",
    "from lib.models import AdvectionIRCNN\n",
    "from lib.models.wrappers import MarlModel\n",
    "from tianshou.utils.net.common import ActorCritic\n",
    "from lib.policy.ppo import MarlPPOPolicy\n",
    "from lib.distributions import ElementwiseNormal\n",
    "\n",
    "import torch\n",
    "import math\n",
    "import numpy as np\n",
    "from tqdm import tqdm\n",
    "import os\n",
    "\n",
    "# Settings for plotting\n",
    "import matplotlib.pyplot as plt\n",
    "import matplotlib.ticker as ticker\n",
    "FONT_SIZE = 16\n",
    "plt.rcParams['figure.figsize'] = (4, 4)\n",
    "# Set global font size\n",
    "plt.rcParams['font.size'] = FONT_SIZE\n",
    "plt.rcParams['axes.labelsize'] = FONT_SIZE\n",
    "plt.rcParams['xtick.labelsize'] = FONT_SIZE\n",
    "plt.rcParams['ytick.labelsize'] = FONT_SIZE\n",
    "plt.rcParams['legend.fontsize'] = 12"
   ]
  },
  {
   "cell_type": "code",
   "execution_count": null,
   "id": "70637470-ef55-4422-b160-e9e8d180d7f4",
   "metadata": {},
   "outputs": [],
   "source": [
    "# function to plot images side by side \n",
    "def plot_n(ims, titles):   \n",
    "    fig, axes = plt.subplots(1, len(ims), figsize=(6, 2))\n",
    "    axes[0].imshow(ims[0], cmap='gray', interpolation=\"none\")\n",
    "    axes[0].axis(\"off\")\n",
    "    axes[1].imshow(ims[1], vmin=-0.03, vmax=0.03, cmap='gray', interpolation=\"none\")\n",
    "    axes[1].axis(\"off\")\n",
    "    axes[2].imshow(ims[2], vmin=-0.03, vmax=0.03, cmap='gray', interpolation=\"none\")\n",
    "    axes[2].axis(\"off\")\n",
    "\n",
    "    axes[0].set_title(titles[0])\n",
    "    axes[1].set_title(titles[1])\n",
    "    axes[2].set_title(titles[2])\n",
    "    plt.tight_layout()\n",
    "    \n",
    "def calculate_correlation(predictions, ground_truth):\n",
    "    correlation_coefficient = np.corrcoef(predictions.flatten(), ground_truth.flatten())[0, 1]\n",
    "    return correlation_coefficient"
   ]
  },
  {
   "cell_type": "code",
   "execution_count": null,
   "id": "7d698bec-a465-4bb5-9720-db6bf6876c43",
   "metadata": {},
   "outputs": [],
   "source": [
    "# Figures will be saved to this path\n",
    "FIG_PATH = f'results_dump/figures/advection/'"
   ]
  },
  {
   "cell_type": "code",
   "execution_count": null,
   "id": "8137e5fb-de7a-4863-bd46-4973119dd580",
   "metadata": {},
   "outputs": [],
   "source": [
    "DEVICE = \"cuda:0\"\n",
    "backbone = AdvectionIRCNN()\n",
    "actor = MarlModel(backbone=backbone, _is=\"actor\").to(DEVICE)\n",
    "critic = MarlModel(backbone=backbone, _is=\"critic\").to(DEVICE)\n",
    "actor_critic = ActorCritic(actor, critic)"
   ]
  },
  {
   "cell_type": "code",
   "execution_count": null,
   "id": "3feea863-15b8-4ad0-8e2e-24bd29e8b9c5",
   "metadata": {},
   "outputs": [],
   "source": [
    "EPOCH = 1499  # load EPOCH=1499 for best model\n",
    "POLICY_READ_PATH = f'./weights/policy_launch_platform/mnist_train_ppo_IRCNN_eplen:4_seed:0_subsample:4_discount:0.95_growing_ep_len_maxed/policy_ep{EPOCH}.pt'"
   ]
  },
  {
   "cell_type": "code",
   "execution_count": null,
   "id": "98213604-5308-4948-a50d-276f9f25d1db",
   "metadata": {},
   "outputs": [],
   "source": [
    "dist = ElementwiseNormal\n",
    "ElementwiseNormal.marl = True\n",
    "policy = MarlPPOPolicy(actor=actor_critic.actor,\n",
    "             critic=actor_critic.critic,\n",
    "              dist_fn=dist,\n",
    "              optim=None,\n",
    "             ent_coef=0.05)\n",
    "policy.load_state_dict(torch.load(POLICY_READ_PATH, map_location=torch.device(DEVICE)))\n",
    "print(\"Built model\")"
   ]
  },
  {
   "cell_type": "code",
   "execution_count": null,
   "id": "45095641-939f-44a3-9de7-dd9194548d44",
   "metadata": {},
   "outputs": [],
   "source": [
    "env = AdvectionEnvironment(\n",
    "    ep_len=10,\n",
    "    train=False,\n",
    "    img_size=64,\n",
    "    dataset_name=\"mnist\",  # Possible datasets: mnist or fashion\n",
    "    velocity_field_type=\"train\" # Possible velocity fields: train, train2, vortex, vortex2...\n",
    ")"
   ]
  },
  {
   "cell_type": "code",
   "execution_count": null,
   "id": "bff4d999-c3e4-4d05-9988-f1e2bc2d09ef",
   "metadata": {},
   "outputs": [],
   "source": [
    "# Function to calculate approximation of perfect action \n",
    "def mde_upwind_diffusion_term(states, c_x, c_y, dx, dy, dt):\n",
    "    # states is in dims (time, x, y)\n",
    "    mid_idx = states.shape[0] // 2 + 1\n",
    "\n",
    "    # Compute first time derivative\n",
    "    du_dt = np.gradient(states, dt, axis=0)\n",
    "\n",
    "    # Compute second time derivative \n",
    "    d2u_dt2 = np.gradient(du_dt, dt, axis=0)\n",
    "\n",
    "    # Compute third order derivative\n",
    "    d3u_dt3 = np.gradient(d2u_dt2, dt, axis=0)\n",
    "\n",
    "    t_dir_error = dt / 2 * d2u_dt2[mid_idx]  \n",
    "\n",
    "    # Compute first space derivatives\n",
    "    edge_order=2\n",
    "    du_dx, du_dy = np.gradient(states, dx, dy, axis=(1, 2), edge_order=edge_order)\n",
    "\n",
    "    # Compute second and third space derivatives\n",
    "    d2u_dx2 = np.gradient(du_dx, dx, axis=1, edge_order=edge_order)\n",
    "    d3u_dx3 = np.gradient(d2u_dx2, dx, axis=1, edge_order=edge_order)\n",
    "    d2u_dy2 = np.gradient(du_dy, dy, axis=2, edge_order=edge_order)\n",
    "    d3u_dy3 = np.gradient(d2u_dy2, dy, axis=2, edge_order=edge_order)\n",
    "\n",
    "    x_dir_error = np.abs(c_x) * dx / 2 * d2u_dx2[mid_idx] \n",
    "    y_dir_error = np.abs(c_y) * dy / 2 * d2u_dy2[mid_idx]\n",
    "               \n",
    "    # Return diffusion term\n",
    "    return dt * (t_dir_error + x_dir_error + y_dir_error), mid_idx\n"
   ]
  },
  {
   "cell_type": "code",
   "execution_count": null,
   "id": "3e4c18d3-e0dd-48d0-8cc2-177b5616d71e",
   "metadata": {},
   "outputs": [],
   "source": [
    "def rollout_and_compute_mde_term(env, num_steps=30, do_plot=False):\n",
    "    states = []\n",
    "    dns_states = []\n",
    "    actions = []    \n",
    "    \n",
    "    _obs, _ = env.reset()\n",
    "    for _ in range(num_steps):\n",
    "        states.append(env.state)\n",
    "        dns_states.append(env.gt_state)\n",
    "        act_mean = actor.get_action_mean(_obs).detach().squeeze().cpu().numpy()\n",
    "        actions.append(act_mean)\n",
    "        _obs, _, _, _, _ = env.step(np.expand_dims(act_mean, axis=0))\n",
    "    \n",
    "    states, dns_states, actions = np.array(states), np.array(dns_states), np.array(actions)\n",
    "    analyt, mid_idx = mde_upwind_diffusion_term(states, env.c_x, env.c_y, env.dx, env.dy, env.dt)\n",
    "    coef = calculate_correlation(actions[mid_idx + 1], analyt)\n",
    "\n",
    "    if do_plot:\n",
    "        plot_n([states[mid_idx + 1], actions[mid_idx + 1], analyt], titles=[\"Input\", \"Action\", \"Approx. Perf. Action\"])\n",
    "        os.makedirs(os.path.dirname(FIG_PATH), exist_ok=True)\n",
    "        plt.savefig(FIG_PATH + f'action_imgs.jpg')\n",
    "        plt.figure()\n",
    "        plt.hist(analyt.flatten(), bins=10, label=\"Approx. Perf. Action\")\n",
    "        plt.hist(act_mean.flatten(), bins=10, label=\"Action\")\n",
    "        plt.legend(), plt.show()\n",
    "        print(\"Pearson Correlation Coefficient:\", coef)\n",
    "\n",
    "    return actions[mid_idx], analyt, coef"
   ]
  },
  {
   "cell_type": "code",
   "execution_count": null,
   "id": "6876768e-5717-4293-83ca-92ae5434cec2",
   "metadata": {},
   "outputs": [],
   "source": [
    "action, analyt, coef = rollout_and_compute_mde_term(env, num_steps=30, do_plot=True)"
   ]
  },
  {
   "cell_type": "code",
   "execution_count": null,
   "id": "144543cb-aebe-4ada-bc5a-2c374dd207f2",
   "metadata": {},
   "outputs": [],
   "source": [
    "plt.figure(figsize=(4.5, 4))\n",
    "plt.plot(analyt.flatten(), action.flatten(),  'x', color=\"black\")\n",
    "#plt.plot(np.linspace(analyt.min(), analyt.max()), np.linspace(analyt.min(), analyt.max()))\n",
    "plt.gca().yaxis.set_major_formatter(ticker.ScalarFormatter())\n",
    "plt.gca().xaxis.set_major_formatter(ticker.ScalarFormatter())\n",
    "plt.xlabel(\"Approx. Perf. Action\")\n",
    "plt.ylabel(r\"Action\")\n",
    "plt.ylim(bottom=-0.01, top=0.01)\n",
    "plt.xlim(left=-0.012, right=0.01)\n",
    "plt.yticks(np.linspace(-0.01, 0.01, num=3))\n",
    "plt.xticks(np.linspace(-0.01, 0.01, num=3))\n",
    "plt.grid(True)\n",
    "plt.tight_layout()\n",
    "\n",
    "os.makedirs(os.path.dirname(FIG_PATH), exist_ok=True)\n",
    "plt.savefig(FIG_PATH + f'action_cluster.pdf')"
   ]
  },
  {
   "cell_type": "code",
   "execution_count": null,
   "id": "be3f4a42",
   "metadata": {},
   "outputs": [],
   "source": [
    "# run NUM_SAMPLES simulations and calculate the pearson correlation coefficient for each one\n",
    "NUM_SAMPLES = 5\n",
    "analyt_energs = []\n",
    "act_energs = []\n",
    "coefs = np.zeros(NUM_SAMPLES)\n",
    "for i in tqdm(range(NUM_SAMPLES)):\n",
    "    act_mean, analyt, coef = rollout_and_compute_mde_term(env, 30, False)\n",
    "    coefs[i] = coef"
   ]
  },
  {
   "cell_type": "code",
   "execution_count": null,
   "id": "66442b19",
   "metadata": {},
   "outputs": [],
   "source": [
    "print(f\"Mean pixel wise correlation between the numerically approximated MDE term and the action of the agent:\")\n",
    "print(f\"{coefs.mean():.2f} +- {coefs.std():.2f}\")"
   ]
  },
  {
   "cell_type": "code",
   "execution_count": null,
   "id": "35c3080c-c804-425b-8cc9-5fe4fc6dc383",
   "metadata": {},
   "outputs": [],
   "source": []
  }
 ],
 "metadata": {
  "kernelspec": {
   "display_name": "Python 3 (ipykernel)",
   "language": "python",
   "name": "python3"
  },
  "language_info": {
   "codemirror_mode": {
    "name": "ipython",
    "version": 3
   },
   "file_extension": ".py",
   "mimetype": "text/x-python",
   "name": "python",
   "nbconvert_exporter": "python",
   "pygments_lexer": "ipython3",
   "version": "3.11.3"
  }
 },
 "nbformat": 4,
 "nbformat_minor": 5
}
