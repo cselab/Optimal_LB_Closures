{
 "cells": [
  {
   "cell_type": "code",
   "execution_count": 1,
   "metadata": {},
   "outputs": [
    {
     "name": "stdout",
     "output_type": "stream",
     "text": [
      "env: CUDA_VISIBLE_DEVICES=2\n"
     ]
    }
   ],
   "source": [
    "%env CUDA_VISIBLE_DEVICES=2"
   ]
  },
  {
   "cell_type": "code",
   "execution_count": 2,
   "metadata": {},
   "outputs": [],
   "source": [
    "import argparse\n",
    "import numpy as np\n",
    "import torch\n",
    "from torch.utils.tensorboard import SummaryWriter\n",
    "import os\n",
    "from time import strftime\n",
    " \n",
    "from tianshou.data import Batch, Collector, VectorReplayBuffer\n",
    "from tianshou.trainer import OnpolicyTrainer\n",
    "from lib.environments import *\n",
    "from lib.policy import MarlPPOPolicy, IndpPGPolicy\n",
    "from lib.utils import save_batch_to_file, model_name\n",
    "from lib.models import *\n",
    "from lib.custom_tianshou.my_logger import WandbLogger2\n",
    "import wandb\n",
    "wandb.require(\"core\")\n",
    "device = \"cuda\" if torch.cuda.is_available() else \"cpu\"\n",
    "\n",
    "import tianshou as ts\n",
    "import gymnasium as gym\n",
    "import torch\n",
    "import numpy as np\n",
    "from torch import nn\n",
    "import matplotlib.pyplot as plt\n",
    "from IPython import display as ipythondisplay\n",
    "import time\n",
    "import seaborn as sns\n",
    "\n",
    "from tianshou.data import Batch, Collector, ReplayBuffer, VectorReplayBuffer\n",
    "from tianshou.env import DummyVectorEnv\n",
    "from tianshou.policy import BasePolicy, PPOPolicy\n",
    "from tianshou.trainer import OnpolicyTrainer\n",
    "from tianshou.utils.net.common import ActorCritic, Net\n",
    "from tianshou.utils.net.continuous import Actor, Critic, ActorProb\n"
   ]
  },
  {
   "cell_type": "code",
   "execution_count": 3,
   "metadata": {},
   "outputs": [
    {
     "name": "stdout",
     "output_type": "stream",
     "text": [
      "Namespace(algorithm='ppo', environment='Kolmogorov11', seed=42, step_factor=1, cgs_resolution=1, fgs_resolution=16, max_interactions=1587, train_num=1, test_num=1, learning_rate=0.0003, adam_eps=1e-07, gamma=0.97, reward_normalization=True, advantage_normalization=False, recompute_advantage=False, deterministic_eval=True, value_clip=True, action_scaling=True, action_bound_method='tanh', ent_coef=0.0001, vf_coef=1e-07, max_grad_norm=1.0, gae_lambda=0.9, buffer_size=20000, logdir='log', task='local-omega-learning', max_epoch=10, step_per_epoch=1587, repeat_per_collect=1, episode_per_test=1, batch_size=16, step_per_collect=100, reward_threshold=100.0)\n"
     ]
    }
   ],
   "source": [
    "import argparse\n",
    "\n",
    "# Define the function as it is\n",
    "def get_args(custom_args=None) -> argparse.Namespace:\n",
    "    parser = argparse.ArgumentParser()\n",
    "\n",
    "    parser.add_argument(\"--algorithm\", type=str, default=\"ppo\")\n",
    "    parser.add_argument(\"--environment\", type=str, default=\"Kolmogorov11\")\n",
    "    parser.add_argument(\"--seed\", type=int, default=0)\n",
    "\n",
    "    # ENVIRONMENT ARGUMENTS\n",
    "    parser.add_argument(\"--step_factor\", type=int, default=1)\n",
    "    parser.add_argument(\"--cgs_resolution\", type=int, default=1)    \n",
    "    parser.add_argument(\"--fgs_resolution\", type=int, default=16)\n",
    "    parser.add_argument(\"--max_interactions\", type=int, default=1587)\n",
    "    parser.add_argument(\"--train_num\", type=int, default=1)\n",
    "    parser.add_argument(\"--test_num\", type=int, default=1)\n",
    "\n",
    "    # POLICY ARGUMENTS\n",
    "    parser.add_argument(\"--learning_rate\", type=float, default=3e-4)\n",
    "    parser.add_argument(\"--adam_eps\", type=float, default=1e-7)\n",
    "    parser.add_argument(\"--gamma\", type=float, default=0.97)\n",
    "    parser.add_argument(\"--reward_normalization\", type=bool, default=True)\n",
    "    parser.add_argument(\"--advantage_normalization\", type=bool, default=False)\n",
    "    parser.add_argument(\"--recompute_advantage\", type=bool, default=False)\n",
    "    parser.add_argument(\"--deterministic_eval\", type=bool, default=True)\n",
    "    parser.add_argument(\"--value_clip\", type=bool, default=True)\n",
    "    parser.add_argument(\"--action_scaling\", type=bool, default=True)\n",
    "    parser.add_argument(\"--action_bound_method\", type=str, default=\"tanh\")\n",
    "    parser.add_argument(\"--ent_coef\", type=float, default=1e-4)\n",
    "    parser.add_argument(\"--vf_coef\", type=float, default=1e-7)\n",
    "    parser.add_argument(\"--max_grad_norm\", type=float, default=1.)\n",
    "    parser.add_argument(\"--gae_lambda\", type=float, default=0.9)\n",
    "\n",
    "    # COLLECTOR ARGUMENTS\n",
    "    parser.add_argument(\"--buffer_size\", type=int, default=20000)\n",
    "\n",
    "    # LOGGER ARGUMENTS\n",
    "    parser.add_argument(\"--logdir\", type=str, default=\"log\")\n",
    "    parser.add_argument(\"--task\", type=str, default=\"local-omega-learning\")\n",
    "\n",
    "    # TRAINER ARGUMENTS\n",
    "    parser.add_argument(\"--max_epoch\", type=int, default=10)\n",
    "    parser.add_argument(\"--step_per_epoch\", type=int, default=1587)\n",
    "    parser.add_argument(\"--repeat_per_collect\", type=int, default=1)\n",
    "    parser.add_argument(\"--episode_per_test\", type=int, default=1)\n",
    "    parser.add_argument(\"--batch_size\", type=int, default=16)\n",
    "    parser.add_argument(\"--step_per_collect\", type=int, default=100)\n",
    "    parser.add_argument(\"--reward_threshold\", type=int, default=100.)\n",
    "\n",
    "    # If custom_args is passed, use those arguments instead of command line args\n",
    "    if custom_args:\n",
    "        return parser.parse_args(custom_args)\n",
    "    else:\n",
    "        # This line makes it work in a notebook without command-line args\n",
    "        return parser.parse_args([])\n",
    "\n",
    "# Example usage in the notebook by passing arguments as a list\n",
    "args = get_args([\n",
    "    '--algorithm', 'ppo',\n",
    "    '--environment', 'Kolmogorov11',\n",
    "    '--seed', '42',\n",
    "    '--max_epoch', '10',\n",
    "])\n",
    "\n",
    "print(args)\n"
   ]
  },
  {
   "cell_type": "code",
   "execution_count": 4,
   "metadata": {},
   "outputs": [
    {
     "data": {
      "text/plain": [
       "<torch._C.Generator at 0x7f01d2be0f10>"
      ]
     },
     "execution_count": 4,
     "metadata": {},
     "output_type": "execute_result"
    }
   ],
   "source": [
    "np.random.seed(args.seed)\n",
    "torch.manual_seed(args.seed)"
   ]
  },
  {
   "cell_type": "code",
   "execution_count": 5,
   "metadata": {},
   "outputs": [
    {
     "name": "stderr",
     "output_type": "stream",
     "text": [
      "/home/pfischer/.miniforge3/envs/xlb2/lib/python3.10/site-packages/pygame/pkgdata.py:25: DeprecationWarning: pkg_resources is deprecated as an API. See https://setuptools.pypa.io/en/latest/pkg_resources.html\n",
      "  from pkg_resources import resource_stream, resource_exists\n"
     ]
    }
   ],
   "source": [
    "train_env = gym.make(\"BipedalWalker-v3\", hardcore=False)\n",
    "test_env = gym.make(\"BipedalWalker-v3\", hardcore=False)\n",
    "env = gym.make(\"BipedalWalker-v3\", hardcore=False, render_mode=\"rgb_array\")"
   ]
  },
  {
   "cell_type": "code",
   "execution_count": 6,
   "metadata": {},
   "outputs": [],
   "source": [
    "def show_env(env, step=0, trial=1):\n",
    "    plt.figure(figsize=(6, 4), dpi=100)\n",
    "    plt.imshow(env.render())\n",
    "    plt.axis('off')\n",
    "    plt.title(f'Trial {trial}, Step {step}')\n",
    "    ipythondisplay.clear_output(wait=True)\n",
    "    ipythondisplay.display(plt.gcf())\n",
    "    plt.close()\n",
    "\n",
    "\n",
    "def play_episode2(env):\n",
    "    #play one episode and record statistics\n",
    "    reward = 0\n",
    "    step = 0\n",
    "    obs ,inf = env.reset()\n",
    "    episode_is_over = False\n",
    "    while not episode_is_over:\n",
    "        show_env(env, step, 1)\n",
    "        action = env.action_space.sample()\n",
    "        obs, rew, terminated, truncated, inf = env.step(action)\n",
    "        reward += rew\n",
    "        step += 1\n",
    "        if terminated or truncated:\n",
    "            episode_is_over = True\n",
    "    \n",
    "    print(f\"#steps = {step}, Total Reward = {reward}\")\n",
    "    env.close()"
   ]
  },
  {
   "cell_type": "code",
   "execution_count": 8,
   "metadata": {},
   "outputs": [
    {
     "data": {
      "image/png": "[encoded data removed]",
      "text/plain": [
       "<Figure size 600x400 with 1 Axes>"
      ]
     },
     "metadata": {},
     "output_type": "display_data"
    },
    {
     "name": "stdout",
     "output_type": "stream",
     "text": [
      "#steps = 1600, Total Reward = -84.54457768580517\n"
     ]
    }
   ],
   "source": [
    "play_episode2(env)"
   ]
  },
  {
   "cell_type": "code",
   "execution_count": 51,
   "metadata": {},
   "outputs": [
    {
     "name": "stdout",
     "output_type": "stream",
     "text": [
      "(24,)\n",
      "(4,)\n"
     ]
    }
   ],
   "source": [
    "print(env.observation_space.shape)\n",
    "print(env.action_space.shape)"
   ]
  },
  {
   "cell_type": "code",
   "execution_count": 6,
   "metadata": {},
   "outputs": [],
   "source": [
    "actor = walker_actor(device=device).to(device)\n",
    "critic = walker_critic(device=device).to(device)\n",
    "actor_critic = ActorCritic(actor=actor, critic=critic)\n",
    "optim = torch.optim.AdamW(actor_critic.parameters(), lr=args.learning_rate, eps=args.adam_eps)\n",
    "dist = torch.distributions.Normal"
   ]
  },
  {
   "cell_type": "code",
   "execution_count": 7,
   "metadata": {},
   "outputs": [],
   "source": [
    "policy = PPOPolicy(actor=actor,\n",
    "        critic=critic,\n",
    "        optim=optim,\n",
    "        dist_fn=dist, \n",
    "        action_space=train_env.action_space,\n",
    "        discount_factor=args.gamma,\n",
    "        reward_normalization=args.reward_normalization, \n",
    "        advantage_normalization = args.advantage_normalization,\n",
    "        value_clip = args.value_clip,\n",
    "        deterministic_eval=args.deterministic_eval,\n",
    "        action_scaling=args.action_scaling,\n",
    "        action_bound_method=args.action_bound_method,\n",
    "        ent_coef = args.ent_coef,\n",
    "        vf_coef = args.vf_coef,\n",
    "        max_grad_norm = args.max_grad_norm,\n",
    "        gae_lambda=args.gae_lambda, \n",
    "        recompute_advantage=args.recompute_advantage,\n",
    "    )"
   ]
  },
  {
   "cell_type": "code",
   "execution_count": 8,
   "metadata": {},
   "outputs": [
    {
     "name": "stderr",
     "output_type": "stream",
     "text": [
      "/home/pfischer/.miniforge3/envs/xlb2/lib/python3.10/site-packages/tianshou/data/collector.py:69: UserWarning: Single environment detected, wrap to DummyVectorEnv.\n",
      "  warnings.warn(\"Single environment detected, wrap to DummyVectorEnv.\")\n"
     ]
    }
   ],
   "source": [
    "train_collector = Collector(policy=policy, env=train_env, buffer=VectorReplayBuffer(args.buffer_size, 1))\n",
    "test_collector = Collector(policy=policy, env=test_env)\n",
    "train_collector.reset()\n",
    "test_collector.reset()"
   ]
  },
  {
   "cell_type": "code",
   "execution_count": 9,
   "metadata": {},
   "outputs": [],
   "source": [
    "trainer = OnpolicyTrainer(\n",
    "        policy=policy,\n",
    "        train_collector=train_collector,\n",
    "        test_collector=test_collector,\n",
    "        max_epoch=args.max_epoch,\n",
    "        step_per_epoch=args.step_per_epoch,\n",
    "        repeat_per_collect=args.repeat_per_collect,\n",
    "        episode_per_test=args.episode_per_test,\n",
    "        batch_size=args.batch_size,\n",
    "        step_per_collect=args.step_per_collect,\n",
    "        #episode_per_collect=args.episode_per_collect,\n",
    "        show_progress=True,\n",
    "    )"
   ]
  },
  {
   "cell_type": "code",
   "execution_count": null,
   "metadata": {},
   "outputs": [],
   "source": [
    "trainer.run()"
   ]
  },
  {
   "cell_type": "markdown",
   "metadata": {},
   "source": [
    "## Pendulum with DDPG"
   ]
  },
  {
   "cell_type": "code",
   "execution_count": 10,
   "metadata": {},
   "outputs": [],
   "source": [
    "from tianshou.data import Batch, Collector, VectorReplayBuffer, PrioritizedVectorReplayBuffer\n",
    "from tianshou.trainer import OnpolicyTrainer, offpolicy_trainer\n",
    "from tianshou.policy import PPOPolicy, DDPGPolicy\n",
    "from tianshou.env import DummyVectorEnv\n",
    "from tianshou.utils.net.common import Net\n",
    "from tianshou.utils.net.continuous import Actor, Critic\n",
    "from tianshou.exploration import GaussianNoise, OUNoise"
   ]
  },
  {
   "cell_type": "code",
   "execution_count": 18,
   "metadata": {},
   "outputs": [
    {
     "name": "stderr",
     "output_type": "stream",
     "text": [
      "/home/pfischer/.miniforge3/envs/xlb2/lib/python3.10/site-packages/tianshou/policy/modelfree/ddpg.py:71: UserWarning: action_scaling and action_bound_method are only intended to dealwith unbounded model action space, but find actor model boundaction space with max_action=2.0.Consider using unbounded=True option of the actor model,or set action_scaling to False and action_bound_method to \"\".\n",
      "  warnings.warn(\n"
     ]
    }
   ],
   "source": [
    "env = gym.make(\"Pendulum-v1\", render_mode=\"rgb_array\")\n",
    "# Neural networks and policy\n",
    "state_shape = env.observation_space.shape or env.observation_space.n\n",
    "action_shape = env.action_space.shape or env.action_space.n\n",
    "max_action = env.action_space.high[0]\n",
    "model_hyperparameters = {'hidden_sizes': [128, 128], 'learning_rate': 1e-3, 'estimation_step': 1}\n",
    "\n",
    "net_a = Net(state_shape, hidden_sizes=model_hyperparameters['hidden_sizes'], device=device)\n",
    "actor = Actor(net_a, action_shape, max_action=max_action, device=device).to(device)\n",
    "actor_optim = torch.optim.Adam(actor.parameters(), lr=model_hyperparameters['learning_rate'])\n",
    "net_c = Net(state_shape, action_shape, hidden_sizes=model_hyperparameters['hidden_sizes'], concat=True,\n",
    "            device=device)\n",
    "critic = Critic(net_c, device=device).to(device)\n",
    "critic_optim = torch.optim.Adam(critic.parameters(), lr=model_hyperparameters['learning_rate'])\n",
    "policy = DDPGPolicy(actor, actor_optim, critic, critic_optim,\n",
    "                    exploration_noise=GaussianNoise(sigma=0.5 * max_action),\n",
    "                    estimation_step=model_hyperparameters['estimation_step'],\n",
    "                    action_space=env.action_space)"
   ]
  },
  {
   "cell_type": "code",
   "execution_count": 19,
   "metadata": {},
   "outputs": [
    {
     "data": {
      "text/plain": [
       "<All keys matched successfully>"
      ]
     },
     "execution_count": 19,
     "metadata": {},
     "output_type": "execute_result"
    }
   ],
   "source": [
    "#load trained bolicy to continue training\n",
    "DUMP_PATH = \"dump/walker_ppo_cgs1_fgs16/\"\n",
    "ID = \"20240927-052627\"\n",
    "policy.load_state_dict(torch.load(DUMP_PATH+'policy_'+ID+'.pth'))"
   ]
  },
  {
   "cell_type": "code",
   "execution_count": 20,
   "metadata": {},
   "outputs": [],
   "source": [
    "def play_episode3(policy, env):\n",
    "    #play one episode and record statistics\n",
    "    reward = 0\n",
    "    step = 0\n",
    "    policy.eval()\n",
    "    obs ,inf = env.reset()\n",
    "    episode_is_over = False\n",
    "    while not episode_is_over:\n",
    "        show_env(env, step, 1)\n",
    "        action = policy(Batch(obs=np.array([obs]), info=inf)).act[0]  \n",
    "        obs, rew, terminated, truncated, inf = env.step(action.detach().cpu().numpy())\n",
    "        reward += rew\n",
    "        step += 1\n",
    "        if terminated or truncated:\n",
    "            episode_is_over = True\n",
    "    \n",
    "    print(f\"#steps = {step}, Total Reward = {reward}\")\n",
    "    env.close()"
   ]
  },
  {
   "cell_type": "code",
   "execution_count": 22,
   "metadata": {},
   "outputs": [
    {
     "data": {
      "image/png": "[encoded data removed]",
      "text/plain": [
       "<Figure size 600x400 with 1 Axes>"
      ]
     },
     "metadata": {},
     "output_type": "display_data"
    },
    {
     "name": "stdout",
     "output_type": "stream",
     "text": [
      "#steps = 200, Total Reward = -119.52085521488618\n"
     ]
    }
   ],
   "source": [
    "play_episode3(policy, env)"
   ]
  },
  {
   "cell_type": "code",
   "execution_count": 26,
   "metadata": {},
   "outputs": [
    {
     "name": "stdout",
     "output_type": "stream",
     "text": [
      "(1,)\n",
      "(3,)\n",
      "-2.0\n",
      "2.0\n"
     ]
    },
    {
     "ename": "",
     "evalue": "",
     "output_type": "error",
     "traceback": [
      "\u001b[1;31mThe Kernel crashed while executing code in the current cell or a previous cell. \n",
      "\u001b[1;31mPlease review the code in the cell(s) to identify a possible cause of the failure. \n",
      "\u001b[1;31mClick <a href='https://aka.ms/vscodeJupyterKernelCrash'>here</a> for more info. \n",
      "\u001b[1;31mView Jupyter <a href='command:jupyter.viewOutput'>log</a> for further details."
     ]
    }
   ],
   "source": [
    "print(env.action_space.shape)\n",
    "print(env.observation_space.shape)\n",
    "print(env.action_space.low[0])\n",
    "print(env.action_space.high[0])"
   ]
  },
  {
   "cell_type": "code",
   "execution_count": 25,
   "metadata": {},
   "outputs": [
    {
     "data": {
      "text/plain": [
       "array([2.], dtype=float32)"
      ]
     },
     "execution_count": 25,
     "metadata": {},
     "output_type": "execute_result"
    }
   ],
   "source": []
  },
  {
   "cell_type": "code",
   "execution_count": null,
   "metadata": {},
   "outputs": [],
   "source": []
  }
 ],
 "metadata": {
  "kernelspec": {
   "display_name": "xlb2",
   "language": "python",
   "name": "python3"
  },
  "language_info": {
   "codemirror_mode": {
    "name": "ipython",
    "version": 3
   },
   "file_extension": ".py",
   "mimetype": "text/x-python",
   "name": "python",
   "nbconvert_exporter": "python",
   "pygments_lexer": "ipython3",
   "version": "3.10.14"
  }
 },
 "nbformat": 4,
 "nbformat_minor": 2
}
