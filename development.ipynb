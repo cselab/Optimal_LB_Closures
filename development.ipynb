{
 "cells": [
  {
   "cell_type": "code",
   "execution_count": 1,
   "metadata": {},
   "outputs": [
    {
     "name": "stdout",
     "output_type": "stream",
     "text": [
      "env: CUDA_VISIBLE_DEVICES=3\n"
     ]
    }
   ],
   "source": [
    "%env CUDA_VISIBLE_DEVICES=3"
   ]
  },
  {
   "cell_type": "code",
   "execution_count": 2,
   "metadata": {},
   "outputs": [],
   "source": [
    "import argparse\n",
    "import numpy as np\n",
    "import torch\n",
    "import torch.nn as nn\n",
    "from torch.utils.tensorboard import SummaryWriter\n",
    "import os\n",
    "import json\n",
    "from functools import partial\n",
    "import sys\n",
    "from tqdm import tqdm\n",
    "import matplotlib.pyplot as plt\n",
    "\n",
    "from tianshou.utils import WandbLogger\n",
    "from tianshou.data import Batch, Collector, ReplayBuffer, VectorReplayBuffer\n",
    "from tianshou.env import DummyVectorEnv\n",
    "from tianshou.policy import BasePolicy, PPOPolicy\n",
    "from tianshou.trainer import OnpolicyTrainer\n",
    "from tianshou.utils.net.common import ActorCritic, Net\n",
    "#from tianshou.utils.net.discrete import Actor, Critic\n",
    "from tianshou.utils.net.continuous import Actor, Critic, ActorProb\n",
    "\n",
    "import gymnasium as gym\n",
    "from gymnasium import spaces\n",
    "from gymnasium.wrappers import TimeLimit, RescaleAction, TransformObservation\n",
    "from stable_baselines3.common.env_checker import check_env\n",
    "\n",
    "from lib.environments import get_environment\n",
    "from lib.environments.kolmogorov import KolmogorovEnvironment, KolmogorovEnvironment2\n",
    "from lib.policy import get_rl_algo\n",
    "from lib.distributions import ElementwiseNormal\n",
    "from lib.models import get_actor_critic\n",
    "from lib.utils import str2bool, Config, dict_to_wandb_table, restrict_to_num_threads\n",
    "from lib.trainer import MyOnpolicyTrainer\n",
    "\n",
    "#temporary solution for xlb imports\n",
    "sys.path.append(os.path.abspath('/home/pfischer/XLB'))\n",
    "#from my_flows.kolmogorov_2d import Kolmogorov_flow\n",
    "from my_flows.helpers import get_kwargs\n",
    "\n",
    "import wandb\n",
    "wandb.require(\"core\")\n",
    "\n",
    "device = \"cuda\" if torch.cuda.is_available() else \"cpu\""
   ]
  },
  {
   "cell_type": "code",
   "execution_count": 3,
   "metadata": {},
   "outputs": [],
   "source": [
    "def get_args() -> argparse.Namespace:\n",
    "    parser = argparse.ArgumentParser()\n",
    "    parser.add_argument(\"--task\", type=str, default=\"CartPole-v1\")\n",
    "    parser.add_argument(\"--model\", type=str, default=\"ppo\")\n",
    "    parser.add_argument(\"--reward_threshold\", type=int, default=500)\n",
    "    parser.add_argument(\"--seed\", type=int, default=0)\n",
    "    parser.add_argument(\"--buffer_size\", type=int, default=20000)\n",
    "    parser.add_argument(\"--max_epoch\", type=int, default=10)\n",
    "    parser.add_argument(\"--step_per_epoch\", type=int, default=100)\n",
    "    parser.add_argument(\"--train_num\", type=int, default=1)\n",
    "    parser.add_argument(\"--test_num\", type=int, default=1)\n",
    "    parser.add_argument(\"--logdir\", type=str, default=\"log\")\n",
    "    parser.add_argument(\"--gamma\", type=float, default=0.90)\n",
    "    parser.add_argument(\"--lr\", help='learning rate', type=float, default=1e-4)\n",
    "    parser.add_argument(\"--repeat_per_collect\", type=int, default=1)\n",
    "    parser.add_argument(\"--episode_per_test\", type=int, default=1)\n",
    "    parser.add_argument(\"--batch_size\", type=int, default=16)\n",
    "    parser.add_argument(\"--step_per_collect\", type=int, default=200) \n",
    "    parser.add_argument(\"--architecture\", type=int, default=[64, 64])\n",
    "    parser.add_argument(\"--backbone_out_dim\", type=int, default=64)\n",
    "\n",
    "    return parser.parse_known_args()[0]\n",
    "\n",
    "\n",
    "def create_env(kwargs1, kwargs2, max_t=100, min_a=-1., max_a=1., step_factor=10):\n",
    "    \"\"\"\n",
    "    creates the environemnt and applyes wrappers to action and\n",
    "    observations space and sets time limit.\n",
    "    \"\"\"\n",
    "    env = KolmogorovEnvironment2(kwargs1, kwargs2, step_factor=step_factor)\n",
    "    #env = TimeLimit(env, max_episode_steps=max_t)\n",
    "    return env\n",
    "\n",
    "\n",
    "class Backbone(nn.Module):\n",
    "\n",
    "    def __init__(self, out_size=64, device=\"cpu\"):\n",
    "        super(Backbone, self).__init__()\n",
    "        \n",
    "        ### Convolutional section\n",
    "        self.encoder_cnn = nn.Sequential(\n",
    "            nn.Conv2d(1, 2, 3, stride=2, padding=1),\n",
    "            nn.ReLU(True),\n",
    "            nn.Conv2d(2, 4, 3, stride=2, padding=1),\n",
    "            nn.ReLU(True),\n",
    "            nn.Conv2d(4, 8, 3, stride=2, padding=1),\n",
    "            nn.ReLU(True),\n",
    "            nn.MaxPool2d(2,2)\n",
    "        )\n",
    "        \n",
    "        ### Linear section\n",
    "        self.encoder_lin = nn.Sequential(\n",
    "            nn.Linear(512, out_size),\n",
    "            nn.ReLU(True),\n",
    "        )\n",
    "\n",
    "    def forward(self, obs, state=None, info={}):\n",
    "        if not isinstance(obs, torch.Tensor):\n",
    "            obs = torch.tensor(obs, dtype=torch.float, device=device)\n",
    "        batch = obs.shape[0]\n",
    "\n",
    "        obs = self.encoder_cnn(obs.reshape(batch, 1, 128, 128))\n",
    "        obs = obs.reshape(batch, -1)\n",
    "        logits = self.encoder_lin(obs)\n",
    "\n",
    "        return logits, state"
   ]
  },
  {
   "cell_type": "code",
   "execution_count": 4,
   "metadata": {},
   "outputs": [
    {
     "data": {
      "text/plain": [
       "<torch._C.Generator at 0x7fa7a3fc1970>"
      ]
     },
     "execution_count": 4,
     "metadata": {},
     "output_type": "execute_result"
    }
   ],
   "source": [
    "#######################################################################################################\n",
    "####### setup stuff *##################################################################################\n",
    "#######################################################################################################\n",
    "args = get_args()\n",
    "# seed\n",
    "np.random.seed(args.seed)\n",
    "torch.manual_seed(args.seed)\n",
    "#restrict_to_num_threads(1)"
   ]
  },
  {
   "cell_type": "code",
   "execution_count": 5,
   "metadata": {},
   "outputs": [
    {
     "name": "stdout",
     "output_type": "stream",
     "text": [
      "m_prime = 31232.0, end time = 31232 steps, T=355, io_rate = 64.0, Number of outputs = 490.0\n",
      "m_prime = 31232.0, end time = 31232 steps, T=355, io_rate = 64.0, Number of outputs = 490.0\n"
     ]
    },
    {
     "name": "stderr",
     "output_type": "stream",
     "text": [
      "/home/pfischer/.miniforge3/envs/xlb2/lib/python3.10/site-packages/stable_baselines3/common/env_checker.py:453: UserWarning: We recommend you to use a symmetric and normalized Box action space (range=[-1, 1]) cf. https://stable-baselines3.readthedocs.io/en/master/guide/rl_tips.html\n",
      "  warnings.warn(\n"
     ]
    }
   ],
   "source": [
    "#######################################################################################################\n",
    "####### environments ##################################################################################\n",
    "#######################################################################################################\n",
    "u0_path = \"/home/pfischer/XLB/vel_init/velocity_burn_in_1806594.npy\" #4096x4096 simulation\n",
    "rho0_path = \"/home/pfischer/XLB/vel_init/density_burn_in_1806594.npy\" #4096x4096 simulation\n",
    "kwargs1, T1,_,_ = get_kwargs(u0_path=u0_path, rho0_path=rho0_path, lamb=1) #cgs \n",
    "kwargs2, T2,_,_ = get_kwargs(u0_path=u0_path, rho0_path=rho0_path, lamb=1) #fgs\n",
    "step_factor=1\n",
    "#check if cgs time is a factor of fgs time\n",
    "assert (T2%T1 == 0)\n",
    "env = create_env(kwargs1, kwargs2, max_t=100, step_factor=step_factor)\n",
    "train_env = DummyVectorEnv([lambda: create_env(kwargs1, kwargs2, max_t=100, step_factor=step_factor) for _ in range(args.train_num)])\n",
    "test_env = DummyVectorEnv([lambda: create_env(kwargs1, kwargs2, max_t=100, step_factor=step_factor) for _ in range(args.test_num)])\n",
    "check_env(env)"
   ]
  },
  {
   "cell_type": "code",
   "execution_count": null,
   "metadata": {},
   "outputs": [],
   "source": [
    "# play an episode of length T = 100, for each alpha in alphas and plot totoal reward\n",
    "alphas = np.linspace(env.action_space.low[0], env.action_space.high[0], 20)\n",
    "alphas = alphas.reshape(-1,1)\n",
    "rewards = np.zeros_like(alphas)\n",
    "T = 100\n",
    "for i in range(alphas.shape[0]):\n",
    "    alpha = alphas[i]\n",
    "    reward = 0\n",
    "    step = 0\n",
    "    obs, inf = env.reset()\n",
    "    for step in tqdm(range(T)):\n",
    "        obs, rew, terminated, truncated, inf = env.step(alpha)\n",
    "        reward+=rew\n",
    "        if terminated or truncated:\n",
    "            obs, inf = env.reset()\n",
    "            print(\"termination\")\n",
    "            rewards[i] = reward\n",
    "            break\n",
    "    # Close the environment and display\n",
    "    env.close()\n",
    "    print(f\"alpha={alpha[0]} --> reward: {reward}, length: {step}\")\n",
    "    rewards[i] = reward"
   ]
  },
  {
   "cell_type": "code",
   "execution_count": 8,
   "metadata": {},
   "outputs": [
    {
     "data": {
      "image/png": "[encoded data removed]",
      "text/plain": [
       "<Figure size 640x480 with 1 Axes>"
      ]
     },
     "metadata": {},
     "output_type": "display_data"
    }
   ],
   "source": [
    "plt.style.use('ggplot')\n",
    "plt.figure()\n",
    "plt.plot(alphas, rewards)\n",
    "plt.xlabel(r\"Constant action $\\alpha$\")\n",
    "plt.ylabel(f\"Total Reward after {T} steps\")\n",
    "plt.show()"
   ]
  },
  {
   "cell_type": "code",
   "execution_count": 16,
   "metadata": {},
   "outputs": [
    {
     "data": {
      "image/png": "[encoded data removed]",
      "text/plain": [
       "<Figure size 800x500 with 1 Axes>"
      ]
     },
     "metadata": {},
     "output_type": "display_data"
    }
   ],
   "source": [
    "obs, inf = env.reset()\n",
    "# plot the spectrum\n",
    "plt.style.use('ggplot')\n",
    "plt.figure(figsize=(8, 5), dpi=100)\n",
    "plt.loglog(obs)\n",
    "plt.ylabel(r'Energy spectrum $E(k)$')\n",
    "plt.xlabel(r'wavenumber $k$')\n",
    "#plt.legend()\n",
    "plt.show()"
   ]
  },
  {
   "cell_type": "code",
   "execution_count": null,
   "metadata": {},
   "outputs": [],
   "source": [
    "#train a simple policy gradient alogorithm instead of PPO first\n"
   ]
  },
  {
   "cell_type": "code",
   "execution_count": null,
   "metadata": {},
   "outputs": [],
   "source": []
  },
  {
   "cell_type": "code",
   "execution_count": null,
   "metadata": {},
   "outputs": [],
   "source": []
  },
  {
   "cell_type": "code",
   "execution_count": null,
   "metadata": {},
   "outputs": [],
   "source": []
  },
  {
   "cell_type": "code",
   "execution_count": null,
   "metadata": {},
   "outputs": [],
   "source": []
  },
  {
   "cell_type": "code",
   "execution_count": null,
   "metadata": {},
   "outputs": [],
   "source": [
    "#Policy\n",
    "assert env.observation_space.shape is not None  # for mypy\n",
    "assert env.action_space.shape is not None\n",
    "#net = Net(state_shape=env.observation_space.shape, hidden_sizes=args.architecture, device=device).to(device)\n",
    "net = Backbone(out_size=args.backbone_out_dim, device=device).to(device)\n",
    "#net = simple_backbone(device=device).to(device)\n",
    "#net = Net1(state_shape=env.observation_space.shape, action_shape=(64,)).to(device)\n",
    "actor = ActorProb(preprocess_net=net, action_shape=env.action_space.shape, max_action=1,\n",
    "                 preprocess_net_output_dim=args.backbone_out_dim, device=device).to(device)\n",
    "critic = Critic(preprocess_net=net, preprocess_net_output_dim=args.backbone_out_dim, device=device).to(device)\n",
    "actor_critic = ActorCritic(actor=actor, critic=critic)\n",
    "optim = torch.optim.Adam(actor_critic.parameters(), lr=args.lr)\n",
    "dist = torch.distributions.Normal\n",
    "policy = PPOPolicy(\n",
    "    actor=actor,\n",
    "    critic=critic,\n",
    "    optim=optim,\n",
    "    dist_fn=dist,\n",
    "    action_space=env.action_space,\n",
    "    deterministic_eval=True,\n",
    "    action_scaling=True,\n",
    ")\n",
    "#Collectors\n",
    "train_collector = Collector(\n",
    "    policy=policy,\n",
    "    env=train_env,\n",
    "    buffer=VectorReplayBuffer(args.buffer_size, len(train_env)),\n",
    ")\n",
    "test_collector = Collector(policy=policy, env=test_env)\n",
    "train_collector.reset()\n",
    "test_collector.reset()\n",
    "#wandb Logger\n",
    "log_path = os.path.join(args.logdir, args.task, \"ppo\")\n",
    "#logger = WandbLogger2(train_interval=1000, test_interval = 1, update_interval = 1000, save_interval = 1, config=args)\n",
    "logger = WandbLogger2(config=args)\n",
    "writer = SummaryWriter(log_path)\n",
    "writer.add_text(\"args\", str(args))\n",
    "logger.load(writer)\n",
    "#Trainer\n",
    "trainer = OnpolicyTrainer(\n",
    "    policy=policy,\n",
    "    train_collector=train_collector,\n",
    "    test_collector=test_collector,\n",
    "    max_epoch=args.max_epoch,\n",
    "    step_per_epoch=int(T1/4),     #args.step_per_epoch,\n",
    "    repeat_per_collect=args.repeat_per_collect,             \n",
    "    episode_per_test=args.episode_per_test,\n",
    "    batch_size=args.batch_size,\n",
    "    step_per_collect=args.step_per_collect,\n",
    "    #stop_fn=lambda mean_reward: mean_reward >= args.reward_threshold,\n",
    "    #save_checkpoint_fn=checkpoint_fn,\n",
    "    logger=logger,\n",
    "    show_progress=True,\n",
    ")\n",
    "\n",
    "\n",
    "\n"
   ]
  },
  {
   "cell_type": "code",
   "execution_count": null,
   "metadata": {},
   "outputs": [],
   "source": [
    "result = trainer.run()"
   ]
  },
  {
   "cell_type": "code",
   "execution_count": null,
   "metadata": {},
   "outputs": [],
   "source": [
    "#save policy\n",
    "#torch.save(policy.state_dict(), \"global_omega.pth\")\n",
    "print(\"run is finished\")"
   ]
  }
 ],
 "metadata": {
  "kernelspec": {
   "display_name": "xlb2",
   "language": "python",
   "name": "python3"
  },
  "language_info": {
   "codemirror_mode": {
    "name": "ipython",
    "version": 3
   },
   "file_extension": ".py",
   "mimetype": "text/x-python",
   "name": "python",
   "nbconvert_exporter": "python",
   "pygments_lexer": "ipython3",
   "version": "3.10.14"
  }
 },
 "nbformat": 4,
 "nbformat_minor": 2
}
